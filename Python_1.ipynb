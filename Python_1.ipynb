{
  "nbformat": 4,
  "nbformat_minor": 0,
  "metadata": {
    "colab": {
      "name": "Python_1.ipynb",
      "provenance": [],
      "include_colab_link": true
    },
    "kernelspec": {
      "name": "python3",
      "display_name": "Python 3"
    }
  },
  "cells": [
    {
      "cell_type": "markdown",
      "metadata": {
        "id": "view-in-github",
        "colab_type": "text"
      },
      "source": [
        "<a href=\"https://colab.research.google.com/github/resulthz/cs4high_4080E011/blob/master/Python_1.ipynb\" target=\"_parent\"><img src=\"https://colab.research.google.com/assets/colab-badge.svg\" alt=\"Open In Colab\"/></a>"
      ]
    },
    {
      "cell_type": "code",
      "metadata": {
        "id": "sE1GsAvw4lDD",
        "colab_type": "code",
        "colab": {}
      },
      "source": [
        "print(\"        *        \")\n",
        "print(\"      /***\\       \")\n",
        "print(\"     /*****\\      \")\n",
        "print(\"    /*******\\     \")\n",
        "print(\"   /*********\\    \")\n",
        "print(\"  /***********\\   \")\n",
        "print(\"    /*******\\     \")\n",
        "print(\"   /*********\\    \")\n",
        "print(\"  /***********\\   \")\n",
        "print(\" /*************\\  \")\n",
        "print(\"      |***|       \")\n",
        "print(\"      |***|       \")\n"
      ],
      "execution_count": 0,
      "outputs": []
    }
  ]
}