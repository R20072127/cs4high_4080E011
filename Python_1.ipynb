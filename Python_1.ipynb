{
  "nbformat": 4,
  "nbformat_minor": 0,
  "metadata": {
    "colab": {
      "name": "Python_1.ipynb",
      "provenance": [],
      "collapsed_sections": [],
      "include_colab_link": true
    },
    "kernelspec": {
      "name": "python3",
      "display_name": "Python 3"
    }
  },
  "cells": [
    {
      "cell_type": "markdown",
      "metadata": {
        "id": "view-in-github",
        "colab_type": "text"
      },
      "source": [
        "<a href=\"https://colab.research.google.com/github/resulthz/cs4high_4080E011/blob/master/Python_1.ipynb\" target=\"_parent\"><img src=\"https://colab.research.google.com/assets/colab-badge.svg\" alt=\"Open In Colab\"/></a>"
      ]
    },
    {
      "cell_type": "markdown",
      "metadata": {
        "id": "XAqc6DdstUen",
        "colab_type": "text"
      },
      "source": [
        "#受難日第一天 20190923\n",
        "\n",
        "程式超簡單"
      ]
    },
    {
      "cell_type": "code",
      "metadata": {
        "id": "kyrdzJOqrwLE",
        "colab_type": "code",
        "colab": {
          "base_uri": "https://localhost:8080/",
          "height": 187
        },
        "outputId": "dfba9097-d1fc-4d65-f679-1b880ad22ab1"
      },
      "source": [
        "\n",
        "print(\"         *         \")\n",
        "print(\"        /*\\        \")\n",
        "print(\"       /***\\       \")\n",
        "print(\"      /*****\\      \")\n",
        "print(\"     /*******\\     \")\n",
        "print(\"      /*****\\      \")\n",
        "print(\"     /*******\\     \")\n",
        "print(\"    /*********\\    \")\n",
        "print(\"       |***|       \")\n",
        "print(\"       |***|       \")\n"
      ],
      "execution_count": 6,
      "outputs": [
        {
          "output_type": "stream",
          "text": [
            "         *         \n",
            "        /*\\        \n",
            "       /***\\       \n",
            "      /*****\\      \n",
            "     /*******\\     \n",
            "      /*****\\      \n",
            "     /*******\\     \n",
            "    /*********\\    \n",
            "       |***|       \n",
            "       |***|       \n"
          ],
          "name": "stdout"
        }
      ]
    },
    {
      "cell_type": "code",
      "metadata": {
        "id": "pmhUV7ru1oJB",
        "colab_type": "code",
        "colab": {}
      },
      "source": [
        "a=eval(input(\"請輸入:\"))"
      ],
      "execution_count": 0,
      "outputs": []
    }
  ]
}