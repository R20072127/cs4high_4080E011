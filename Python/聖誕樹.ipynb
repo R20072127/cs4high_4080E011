{
  "nbformat": 4,
  "nbformat_minor": 0,
  "metadata": {
    "colab": {
      "name": "聖誕樹.ipynb",
      "provenance": []
    },
    "kernelspec": {
      "name": "python3",
      "display_name": "Python 3"
    }
  },
  "cells": [
    {
      "cell_type": "code",
      "metadata": {
        "id": "sE1GsAvw4lDD",
        "colab_type": "code",
        "colab": {}
      },
      "source": [
        "print(\"        *        \")\n",
        "print(\"      /***\\       \")\n",
        "print(\"     /*****\\      \")\n",
        "print(\"    /*******\\     \")\n",
        "print(\"   /*********\\    \")\n",
        "print(\"  /***********\\   \")\n",
        "print(\"    /*******\\     \")\n",
        "print(\"   /*********\\    \")\n",
        "print(\"  /***********\\   \")\n",
        "print(\" /*************\\  \")\n",
        "print(\"      |***|       \")\n",
        "print(\"      |***|       \")\n"
      ],
      "execution_count": 0,
      "outputs": []
    }
  ]
}